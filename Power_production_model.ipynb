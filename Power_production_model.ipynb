{
 "cells": [
  {
   "cell_type": "markdown",
   "metadata": {},
   "source": [
    "# Wind Turbine Power Production\n",
    "###  Project assessment\n",
    "#### [Machine Learning and Statistics Module GMIT 2020 ]\n",
    "\n",
    "---\n",
    "\n",
    "<img align=\"left\" width=\"300\" src=\"https://image.flaticon.com/icons/png/512/1778/1778210.png\">\n",
    "<br>"
   ]
  },
  {
   "cell_type": "markdown",
   "metadata": {},
   "source": [
    "<br>\n",
    "\n",
    "Lecturer: *Ian McLoughlin (https://github.com/ianmcloughlin)*\n",
    "\n",
    "Completed by: *Olga Rozhdestvina (G00387844@gmit.ie)*\n",
    "\n",
    "---"
   ]
  },
  {
   "cell_type": "markdown",
   "metadata": {},
   "source": [
    "## Table of Contents\n",
    "\n",
    "* [Overview](#overview)\n",
    "* [General Setup](#setup)\n",
    "* [Raw Data](#loading_data)\n",
    "* [Data Pre-processing](#preproccesing)\n",
    "    * [Outliners](#outliners)\n",
    "    * [Creating Arrays for the Speed and the Power Variable](#arrays)\n",
    "    * [Creating the Training and Test Datasets](#split)\n",
    "* [Build, Predict, and Evaluate the Models](#models)\n",
    "    * [Linear Regression with Polynomial Features](#lr)\n",
    "    * [](#)\n",
    "    * [Neural Networks](#nn)"
   ]
  },
  {
   "cell_type": "markdown",
   "metadata": {},
   "source": [
    "<br>\n",
    "\n",
    "### Overview. <a name=\"overview\"></a>\n",
    "___"
   ]
  },
  {
   "cell_type": "markdown",
   "metadata": {},
   "source": [
    "<br>\n",
    "\n",
    "### General Setup. <a name=\"setup\"></a>\n",
    "___"
   ]
  },
  {
   "cell_type": "code",
   "execution_count": 1,
   "metadata": {},
   "outputs": [],
   "source": [
    "# Neural networks.\n",
    "import tensorflow.keras as kr\n",
    "\n",
    "# Machine Learning \n",
    "import sklearn.linear_model as md\n",
    "from sklearn.pipeline import make_pipeline\n",
    "\n",
    "# Preprocessing\n",
    "from sklearn.model_selection import train_test_split\n",
    "from sklearn.preprocessing import MinMaxScaler\n",
    "from sklearn.preprocessing import PolynomialFeatures\n",
    "\n",
    "from sklearn.tree import DecisionTreeRegressor\n",
    "from sklearn.svm import SVR\n",
    "from sklearn.ensemble import RandomForestRegressor\n",
    "\n",
    "# Evaluation.\n",
    "from sklearn.metrics import r2_score\n",
    "from sklearn.metrics import mean_squared_error\n",
    "\n",
    "# Numerical arrays.\n",
    "import numpy as np\n",
    "\n",
    "# Data frames.\n",
    "import pandas as pd\n",
    "\n",
    "# Plotting.\n",
    "import matplotlib.pyplot as plt\n",
    "# Another package for plotting.\n",
    "import seaborn as sns\n",
    "\n",
    "%matplotlib inline"
   ]
  },
  {
   "cell_type": "code",
   "execution_count": 2,
   "metadata": {},
   "outputs": [],
   "source": [
    "# Theme for plots.\n",
    "sns.set_theme(palette=\"Set2\", context=\"paper\", font_scale=1.5, )\n",
    "\n",
    "# Plot size.\n",
    "plt.rcParams['figure.figsize'] = [14, 8]"
   ]
  },
  {
   "cell_type": "markdown",
   "metadata": {},
   "source": [
    "<br>\n",
    "\n",
    "### Raw Data. <a name=\"loading_data\"></a>\n",
    "___\n",
    "\n",
    "> [1] [Adjusting Size of Seaborn Plot](https://stackoverflow.com/questions/51502927/adjusting-size-of-seaborn-plot)"
   ]
  },
  {
   "cell_type": "code",
   "execution_count": 3,
   "metadata": {},
   "outputs": [
    {
     "data": {
      "text/html": [
       "<div>\n",
       "<style scoped>\n",
       "    .dataframe tbody tr th:only-of-type {\n",
       "        vertical-align: middle;\n",
       "    }\n",
       "\n",
       "    .dataframe tbody tr th {\n",
       "        vertical-align: top;\n",
       "    }\n",
       "\n",
       "    .dataframe thead th {\n",
       "        text-align: right;\n",
       "    }\n",
       "</style>\n",
       "<table border=\"1\" class=\"dataframe\">\n",
       "  <thead>\n",
       "    <tr style=\"text-align: right;\">\n",
       "      <th></th>\n",
       "      <th>speed</th>\n",
       "      <th>power</th>\n",
       "    </tr>\n",
       "  </thead>\n",
       "  <tbody>\n",
       "    <tr>\n",
       "      <th>0</th>\n",
       "      <td>0.000</td>\n",
       "      <td>0.0</td>\n",
       "    </tr>\n",
       "    <tr>\n",
       "      <th>1</th>\n",
       "      <td>0.125</td>\n",
       "      <td>0.0</td>\n",
       "    </tr>\n",
       "    <tr>\n",
       "      <th>2</th>\n",
       "      <td>0.150</td>\n",
       "      <td>0.0</td>\n",
       "    </tr>\n",
       "    <tr>\n",
       "      <th>3</th>\n",
       "      <td>0.225</td>\n",
       "      <td>0.0</td>\n",
       "    </tr>\n",
       "    <tr>\n",
       "      <th>4</th>\n",
       "      <td>0.275</td>\n",
       "      <td>0.0</td>\n",
       "    </tr>\n",
       "    <tr>\n",
       "      <th>...</th>\n",
       "      <td>...</td>\n",
       "      <td>...</td>\n",
       "    </tr>\n",
       "    <tr>\n",
       "      <th>495</th>\n",
       "      <td>24.775</td>\n",
       "      <td>0.0</td>\n",
       "    </tr>\n",
       "    <tr>\n",
       "      <th>496</th>\n",
       "      <td>24.850</td>\n",
       "      <td>0.0</td>\n",
       "    </tr>\n",
       "    <tr>\n",
       "      <th>497</th>\n",
       "      <td>24.875</td>\n",
       "      <td>0.0</td>\n",
       "    </tr>\n",
       "    <tr>\n",
       "      <th>498</th>\n",
       "      <td>24.950</td>\n",
       "      <td>0.0</td>\n",
       "    </tr>\n",
       "    <tr>\n",
       "      <th>499</th>\n",
       "      <td>25.000</td>\n",
       "      <td>0.0</td>\n",
       "    </tr>\n",
       "  </tbody>\n",
       "</table>\n",
       "<p>500 rows × 2 columns</p>\n",
       "</div>"
      ],
      "text/plain": [
       "      speed  power\n",
       "0     0.000    0.0\n",
       "1     0.125    0.0\n",
       "2     0.150    0.0\n",
       "3     0.225    0.0\n",
       "4     0.275    0.0\n",
       "..      ...    ...\n",
       "495  24.775    0.0\n",
       "496  24.850    0.0\n",
       "497  24.875    0.0\n",
       "498  24.950    0.0\n",
       "499  25.000    0.0\n",
       "\n",
       "[500 rows x 2 columns]"
      ]
     },
     "execution_count": 3,
     "metadata": {},
     "output_type": "execute_result"
    }
   ],
   "source": [
    "# Load the iris data set from a URL.\n",
    "df = pd.read_csv(\"powerproduction.csv\")\n",
    "\n",
    "# Display the data frame.\n",
    "df"
   ]
  },
  {
   "cell_type": "markdown",
   "metadata": {},
   "source": [
    "The data set has two numerical variables **speed** and **power**. They are both represented by real numbers: speed to 3 decimal points and power to one decimal point. Let's check if the data set has any empty values. "
   ]
  },
  {
   "cell_type": "code",
   "execution_count": 4,
   "metadata": {},
   "outputs": [
    {
     "data": {
      "text/plain": [
       "False"
      ]
     },
     "execution_count": 4,
     "metadata": {},
     "output_type": "execute_result"
    }
   ],
   "source": [
    "# Check for empty values.\n",
    "df.isnull().values.any()"
   ]
  },
  {
   "cell_type": "code",
   "execution_count": 5,
   "metadata": {},
   "outputs": [
    {
     "data": {
      "text/html": [
       "<div>\n",
       "<style scoped>\n",
       "    .dataframe tbody tr th:only-of-type {\n",
       "        vertical-align: middle;\n",
       "    }\n",
       "\n",
       "    .dataframe tbody tr th {\n",
       "        vertical-align: top;\n",
       "    }\n",
       "\n",
       "    .dataframe thead th {\n",
       "        text-align: right;\n",
       "    }\n",
       "</style>\n",
       "<table border=\"1\" class=\"dataframe\">\n",
       "  <thead>\n",
       "    <tr style=\"text-align: right;\">\n",
       "      <th></th>\n",
       "      <th>speed</th>\n",
       "      <th>power</th>\n",
       "    </tr>\n",
       "  </thead>\n",
       "  <tbody>\n",
       "    <tr>\n",
       "      <th>count</th>\n",
       "      <td>500.000000</td>\n",
       "      <td>500.000000</td>\n",
       "    </tr>\n",
       "    <tr>\n",
       "      <th>mean</th>\n",
       "      <td>12.590398</td>\n",
       "      <td>48.014584</td>\n",
       "    </tr>\n",
       "    <tr>\n",
       "      <th>std</th>\n",
       "      <td>7.224991</td>\n",
       "      <td>41.614572</td>\n",
       "    </tr>\n",
       "    <tr>\n",
       "      <th>min</th>\n",
       "      <td>0.000000</td>\n",
       "      <td>0.000000</td>\n",
       "    </tr>\n",
       "    <tr>\n",
       "      <th>25%</th>\n",
       "      <td>6.324750</td>\n",
       "      <td>5.288000</td>\n",
       "    </tr>\n",
       "    <tr>\n",
       "      <th>50%</th>\n",
       "      <td>12.550500</td>\n",
       "      <td>41.645500</td>\n",
       "    </tr>\n",
       "    <tr>\n",
       "      <th>75%</th>\n",
       "      <td>18.775250</td>\n",
       "      <td>93.537000</td>\n",
       "    </tr>\n",
       "    <tr>\n",
       "      <th>max</th>\n",
       "      <td>25.000000</td>\n",
       "      <td>113.556000</td>\n",
       "    </tr>\n",
       "  </tbody>\n",
       "</table>\n",
       "</div>"
      ],
      "text/plain": [
       "            speed       power\n",
       "count  500.000000  500.000000\n",
       "mean    12.590398   48.014584\n",
       "std      7.224991   41.614572\n",
       "min      0.000000    0.000000\n",
       "25%      6.324750    5.288000\n",
       "50%     12.550500   41.645500\n",
       "75%     18.775250   93.537000\n",
       "max     25.000000  113.556000"
      ]
     },
     "execution_count": 5,
     "metadata": {},
     "output_type": "execute_result"
    }
   ],
   "source": [
    "# Stats.\n",
    "df.describe()"
   ]
  },
  {
   "cell_type": "markdown",
   "metadata": {},
   "source": [
    "The statistics found that the data is quite spread out. "
   ]
  },
  {
   "cell_type": "code",
   "execution_count": 6,
   "metadata": {},
   "outputs": [
    {
     "data": {
      "image/png": "[encoded data removed]",
      "text/plain": [
       "<Figure size 1008x576 with 1 Axes>"
      ]
     },
     "metadata": {},
     "output_type": "display_data"
    }
   ],
   "source": [
    "# Plot data.\n",
    "sns.relplot(data=df, x=\"speed\", y=\"power\")\n",
    "\n",
    "# Change plot size.\n",
    "fig = plt.gcf()\n",
    "fig.set_size_inches(14, 8)\n",
    "fig.suptitle(\"Wind Turbine Power Production\", y=1.02)\n",
    "\n",
    "# Show the plot.\n",
    "plt.show()"
   ]
  },
  {
   "cell_type": "markdown",
   "metadata": {},
   "source": [
    "The above plot shows that the data follows a polynominal regression. The relationship between Power and Speed predominantly take \"S\"-shape. The power rises dramatically with speed over about 8 m/s and slows when the speed reaches about 17 m/s.\n",
    "\n",
    "Additionally, we can see some outliners where the speed is above 10 m/s, however, the power is still 0."
   ]
  },
  {
   "cell_type": "markdown",
   "metadata": {},
   "source": [
    "<br>\n",
    "\n",
    "###  Data Pre-processing. <a name=\"preproccesing\"></a>\n",
    "___\n",
    "\n",
    "#### 1. Outliners.  <a name=\"outliners\"></a>\n",
    "The first step is to remove those outliners from our data set. [2] [3]\n",
    "\n",
    "> [2] [Non-Linear Regression Trees with scikit-learn](https://www.pluralsight.com/guides/non-linear-regression-trees-scikit-learn)\n",
    "<br>\n",
    "[3] [Delete rows based on multiple conditions; including other column conditionals](https://stackoverflow.com/questions/31997992/delete-rows-based-on-multiple-conditions-including-other-column-conditionals)"
   ]
  },
  {
   "cell_type": "code",
   "execution_count": 7,
   "metadata": {
    "scrolled": false
   },
   "outputs": [
    {
     "data": {
      "text/html": [
       "<div>\n",
       "<style scoped>\n",
       "    .dataframe tbody tr th:only-of-type {\n",
       "        vertical-align: middle;\n",
       "    }\n",
       "\n",
       "    .dataframe tbody tr th {\n",
       "        vertical-align: top;\n",
       "    }\n",
       "\n",
       "    .dataframe thead th {\n",
       "        text-align: right;\n",
       "    }\n",
       "</style>\n",
       "<table border=\"1\" class=\"dataframe\">\n",
       "  <thead>\n",
       "    <tr style=\"text-align: right;\">\n",
       "      <th></th>\n",
       "      <th>speed</th>\n",
       "      <th>power</th>\n",
       "    </tr>\n",
       "  </thead>\n",
       "  <tbody>\n",
       "    <tr>\n",
       "      <th>0</th>\n",
       "      <td>0.000</td>\n",
       "      <td>0.000</td>\n",
       "    </tr>\n",
       "    <tr>\n",
       "      <th>1</th>\n",
       "      <td>0.125</td>\n",
       "      <td>0.000</td>\n",
       "    </tr>\n",
       "    <tr>\n",
       "      <th>2</th>\n",
       "      <td>0.150</td>\n",
       "      <td>0.000</td>\n",
       "    </tr>\n",
       "    <tr>\n",
       "      <th>3</th>\n",
       "      <td>0.225</td>\n",
       "      <td>0.000</td>\n",
       "    </tr>\n",
       "    <tr>\n",
       "      <th>4</th>\n",
       "      <td>0.275</td>\n",
       "      <td>0.000</td>\n",
       "    </tr>\n",
       "    <tr>\n",
       "      <th>...</th>\n",
       "      <td>...</td>\n",
       "      <td>...</td>\n",
       "    </tr>\n",
       "    <tr>\n",
       "      <th>485</th>\n",
       "      <td>24.249</td>\n",
       "      <td>103.700</td>\n",
       "    </tr>\n",
       "    <tr>\n",
       "      <th>486</th>\n",
       "      <td>24.299</td>\n",
       "      <td>93.694</td>\n",
       "    </tr>\n",
       "    <tr>\n",
       "      <th>487</th>\n",
       "      <td>24.349</td>\n",
       "      <td>93.078</td>\n",
       "    </tr>\n",
       "    <tr>\n",
       "      <th>488</th>\n",
       "      <td>24.374</td>\n",
       "      <td>98.223</td>\n",
       "    </tr>\n",
       "    <tr>\n",
       "      <th>489</th>\n",
       "      <td>24.399</td>\n",
       "      <td>95.117</td>\n",
       "    </tr>\n",
       "  </tbody>\n",
       "</table>\n",
       "<p>477 rows × 2 columns</p>\n",
       "</div>"
      ],
      "text/plain": [
       "      speed    power\n",
       "0     0.000    0.000\n",
       "1     0.125    0.000\n",
       "2     0.150    0.000\n",
       "3     0.225    0.000\n",
       "4     0.275    0.000\n",
       "..      ...      ...\n",
       "485  24.249  103.700\n",
       "486  24.299   93.694\n",
       "487  24.349   93.078\n",
       "488  24.374   98.223\n",
       "489  24.399   95.117\n",
       "\n",
       "[477 rows x 2 columns]"
      ]
     },
     "execution_count": 7,
     "metadata": {},
     "output_type": "execute_result"
    }
   ],
   "source": [
    "# Remove outliners.\n",
    "df_new = df.drop(df[(df.power == 0) & (df.speed > 5)].index)\n",
    "\n",
    "# Display cleaned data set.\n",
    "df_new"
   ]
  },
  {
   "cell_type": "code",
   "execution_count": 8,
   "metadata": {},
   "outputs": [
    {
     "data": {
      "image/png": "[encoded data removed]",
      "text/plain": [
       "<Figure size 1008x576 with 1 Axes>"
      ]
     },
     "metadata": {},
     "output_type": "display_data"
    }
   ],
   "source": [
    "# Plot data.\n",
    "sns.relplot(data=df_new, x=\"speed\", y=\"power\")\n",
    "\n",
    "# Change plot size.\n",
    "fig = plt.gcf()\n",
    "fig.set_size_inches(14, 8)\n",
    "fig.suptitle(\"Wind Turbine Power Production: without outliners\", y=1.02)\n",
    "\n",
    "# Show the plot.\n",
    "plt.show()"
   ]
  },
  {
   "cell_type": "markdown",
   "metadata": {},
   "source": [
    "<br>\n",
    "\n",
    "#### 2. Creating Arrays for the Speed and the Power Variable.  <a name=\"arrays\"></a>\n",
    "\n",
    "Now the data set should be separated for speed and power values. "
   ]
  },
  {
   "cell_type": "code",
   "execution_count": 9,
   "metadata": {},
   "outputs": [],
   "source": [
    "# Separate speed and power.\n",
    "speed = df_new.iloc[:, 0].values\n",
    "power = df_new.iloc[:, 1].values\n",
    "\n",
    "# Convert them into a numpy array.\n",
    "X = np.array(speed).reshape(-1,1)\n",
    "y = np.array(power).reshape(-1,1)"
   ]
  },
  {
   "cell_type": "markdown",
   "metadata": {},
   "source": [
    "<br>\n",
    "\n",
    "#### 3. Scaling.\n",
    "\n",
    "Next we can scale our data. [5]\n",
    "\n",
    ">[5] [Compare the effect of different scalers on data with outliers](https://scikit-learn.org/stable/auto_examples/preprocessing/plot_all_scaling.html)"
   ]
  },
  {
   "cell_type": "code",
   "execution_count": 10,
   "metadata": {},
   "outputs": [],
   "source": [
    "# Create a instance of a scaler.\n",
    "scaler = MinMaxScaler()\n",
    "\n",
    "# Scale our data.\n",
    "X = scaler.fit_transform(X)\n",
    "y = scaler.fit_transform(y)"
   ]
  },
  {
   "cell_type": "markdown",
   "metadata": {},
   "source": [
    "<br>\n",
    "\n",
    "#### 4. Creating the Training and Test Datasets.  <a name=\"split\"></a>\n",
    "\n",
    "We will build our model on the training set and evaluate its performance on the test set. "
   ]
  },
  {
   "cell_type": "code",
   "execution_count": 11,
   "metadata": {},
   "outputs": [],
   "source": [
    "# Split data on training and test (add random state so the outputs are the same after each execution).\n",
    "speed_train, speed_test, power_train, power_test = train_test_split(X, y, test_size=0.3, random_state=1)"
   ]
  },
  {
   "cell_type": "code",
   "execution_count": 12,
   "metadata": {},
   "outputs": [
    {
     "name": "stdout",
     "output_type": "stream",
     "text": [
      "Training set: (333, 1), (333, 1)\n",
      "Test set: (144, 1), (144, 1)\n"
     ]
    }
   ],
   "source": [
    "print(f\"Training set: {speed_train.shape}, {power_train.shape}\")\n",
    "print(f\"Test set: {speed_test.shape}, {power_test.shape}\")"
   ]
  },
  {
   "cell_type": "markdown",
   "metadata": {},
   "source": [
    "<br>\n",
    "\n",
    "### Build, Predict, and Evaluate the Models. <a name=\"models\"></a>\n",
    "\n",
    "<br>\n",
    "\n",
    "#### Linear Regression with Polynomial Features.  <a name=\"lr\"></a>\n",
    "___\n",
    "\n",
    "<br>\n",
    "\n",
    "Since we have Polynomial regression we can apply the first step is to apply polynomial features. In oder to do so we need first find the best fitting degree. [4]\n",
    "\n",
    ">[4] [Polynomial interpolation](https://scikit-learn.org/stable/auto_examples/linear_model/plot_polynomial_interpolation.html#sphx-glr-auto-examples-linear-model-plot-polynomial-interpolation-py)"
   ]
  },
  {
   "cell_type": "code",
   "execution_count": 13,
   "metadata": {},
   "outputs": [
    {
     "name": "stdout",
     "output_type": "stream",
     "text": [
      "(22, 0.9906276015761861)\n",
      "(23, 0.9906235363698063)\n",
      "(21, 0.9906223734396851)\n",
      "(24, 0.9906089040972884)\n",
      "(25, 0.9905840147315644)\n"
     ]
    }
   ],
   "source": [
    "degrees = []\n",
    "# Find the best degree.\n",
    "for degree in range(1,30):\n",
    "    # Create a pipeline.\n",
    "    pipeline = make_pipeline(PolynomialFeatures(degree), md.LinearRegression())\n",
    "    # Fit it to the original data.\n",
    "    pipeline.fit(speed_train, power_train)\n",
    "    degrees.append((degree, pipeline.score(speed_test,power_test)))\n",
    "\n",
    "# Sort scores in the reverse order by the score. \n",
    "degrees.sort(key=lambda x:float(x[1]), reverse=True)\n",
    "\n",
    "# Return only first 5 results.\n",
    "for j in degrees[:5]:\n",
    "    # Print results.\n",
    "    print(f'{j}')"
   ]
  },
  {
   "cell_type": "markdown",
   "metadata": {},
   "source": [
    "<br>\n",
    "The results found that the degree 5 scores the best. Now we can create a model and fit it to our data. Additionally, we should calculate Mean Squared Error to evaluate the model. [5]\n",
    "\n",
    ">[5] [Model evaluation: quantifying the quality of predictions](https://scikit-learn.org/0.15/modules/model_evaluation.html)"
   ]
  },
  {
   "cell_type": "markdown",
   "metadata": {},
   "source": [
    "<br>\n",
    "\n",
    "Now that we have the model created, we can fit it on the training data, make predictions on the test data and plot them. "
   ]
  },
  {
   "cell_type": "code",
   "execution_count": 14,
   "metadata": {},
   "outputs": [
    {
     "name": "stdout",
     "output_type": "stream",
     "text": [
      "TRAINING DATA\n",
      "Cost:  0.03493901154771126\n",
      "Score: 0.9906848033663184\n",
      "\n",
      "TEST DATA\n",
      "Cost:  0.03504919109569987\n",
      "Score: 0.9906276015761861\n"
     ]
    }
   ],
   "source": [
    "# Create a pipeline with 22 degrees.\n",
    "pipeline = make_pipeline(PolynomialFeatures(22), md.LinearRegression())\n",
    "\n",
    "# Fit the model on the training data.\n",
    "pipeline.fit(speed_train, power_train)\n",
    "\n",
    "# Predict power from traint and test speed.\n",
    "y_train_pred = pipeline.predict(speed_train)\n",
    "y_test_pred = pipeline.predict(speed_test)\n",
    "\n",
    "# Calculate a score and mse.\n",
    "print(\"TRAINING DATA\\nCost: \", np.sqrt(mean_squared_error(power_train,y_train_pred)))\n",
    "print(\"Score:\", r2_score(power_train, y_train_pred))\n",
    "\n",
    "print(\"\\nTEST DATA\\nCost: \", np.sqrt(mean_squared_error(power_test,y_test_pred)))\n",
    "print(\"Score:\", r2_score(power_test,y_test_pred))"
   ]
  },
  {
   "cell_type": "code",
   "execution_count": 15,
   "metadata": {},
   "outputs": [
    {
     "name": "stdout",
     "output_type": "stream",
     "text": [
      "Actual power for [85.25426485] speed is [99.09]\n",
      "Predicted power for [85.25426485] speed is [96.35120033]\n"
     ]
    }
   ],
   "source": [
    "# unscaling speed and power test and predictions.\n",
    "speed_test_unscaled = scaler.inverse_transform(speed_test)\n",
    "power_test_unscaled = scaler.inverse_transform(power_test)\n",
    "power_pred_unscaled = scaler.inverse_transform(y_test_pred)\n",
    "\n",
    "print(f\"Actual power for {speed_test_unscaled[5]} speed is {power_test_unscaled[5]}\")\n",
    "print(f\"Predicted power for {speed_test_unscaled[5]} speed is {power_pred_unscaled[5]}\")"
   ]
  },
  {
   "cell_type": "code",
   "execution_count": 16,
   "metadata": {
    "scrolled": false
   },
   "outputs": [
    {
     "data": {
      "image/png": "[encoded data removed]",
      "text/plain": [
       "<Figure size 1008x576 with 1 Axes>"
      ]
     },
     "metadata": {},
     "output_type": "display_data"
    }
   ],
   "source": [
    "# Create a figure, axis and titles.\n",
    "fig, ax = plt.subplots()\n",
    "fig.suptitle(\"Linear Regression with Polynomial Features\", y=1.02)\n",
    "ax.set_title(\"Predictions on the test data\",y=1.02)\n",
    "\n",
    "# Plot actual test data and predictions.\n",
    "ax.scatter(speed_test, power_test, label=\"Actual\")\n",
    "ax.scatter(speed_test, y_test_pred, c=\"red\", label=\"Predicted\")\n",
    "\n",
    "# Show legend.\n",
    "plt.legend(loc='upper left')\n",
    "\n",
    "# Show the plot.\n",
    "plt.show()"
   ]
  },
  {
   "cell_type": "markdown",
   "metadata": {},
   "source": [
    "<br>\n",
    "\n",
    "#### Decision Trees.  <a name=\"dtree\"></a>\n",
    "___\n"
   ]
  },
  {
   "cell_type": "code",
   "execution_count": 17,
   "metadata": {},
   "outputs": [
    {
     "name": "stdout",
     "output_type": "stream",
     "text": [
      "TRAINING DATA\n",
      "Cost:  0.0279944909801426\n",
      "Score: 0.9940197966955947\n",
      "\n",
      "TEST DATA\n",
      "Cost:  0.03944660784875181\n",
      "Score: 0.9881282684085648\n"
     ]
    }
   ],
   "source": [
    "# Create a decision tree.\n",
    "dtree = DecisionTreeRegressor(max_depth=6, random_state=1)\n",
    "dtree.fit(speed_train, power_train)\n",
    "\n",
    "pred_train_tree= dtree.predict(speed_train)\n",
    "pred_test_tree = dtree.predict(speed_test)\n",
    "\n",
    "# Calculate a score and mse.\n",
    "print(\"TRAINING DATA\\nCost: \", np.sqrt(mean_squared_error(power_train,pred_train_tree)))\n",
    "print(\"Score:\", r2_score(power_train, pred_train_tree))\n",
    "print(\"\\nTEST DATA\\nCost: \", np.sqrt(mean_squared_error(power_test,pred_test_tree)))\n",
    "print(\"Score:\", r2_score(power_test, pred_test_tree))"
   ]
  },
  {
   "cell_type": "code",
   "execution_count": 18,
   "metadata": {},
   "outputs": [
    {
     "name": "stdout",
     "output_type": "stream",
     "text": [
      "Actual power for [85.25426485] speed is [99.09]\n",
      "Predicted power for [85.25426485] speed is [90.27]\n"
     ]
    }
   ],
   "source": [
    "power_pred_unscaled = scaler.inverse_transform(pred_test_tree.reshape(-1,1))\n",
    "\n",
    "print(f\"Actual power for {speed_test_unscaled[5]} speed is {power_test_unscaled[5]}\")\n",
    "print(f\"Predicted power for {speed_test_unscaled[5]} speed is {power_pred_unscaled[5]}\")"
   ]
  },
  {
   "cell_type": "code",
   "execution_count": 19,
   "metadata": {},
   "outputs": [
    {
     "data": {
      "image/png": "[encoded data removed]",
      "text/plain": [
       "<Figure size 1008x576 with 1 Axes>"
      ]
     },
     "metadata": {},
     "output_type": "display_data"
    }
   ],
   "source": [
    "# Create a figure, axis and titles.\n",
    "fig, ax = plt.subplots()\n",
    "fig.suptitle(\"Decision Trees\", y=1.02)\n",
    "ax.set_title(\"Predictions on the test data\",y=1.02)\n",
    "\n",
    "# Plot actual test data and predictions.\n",
    "ax.scatter(speed_train, power_train, label='actual')\n",
    "ax.scatter(speed_test, pred_test_tree, label='prediction', c=\"r\")\n",
    "\n",
    "# Show the legend.\n",
    "plt.legend()\n",
    "\n",
    "# Show the plot.\n",
    "plt.show()"
   ]
  },
  {
   "cell_type": "markdown",
   "metadata": {},
   "source": [
    "<br>\n",
    "\n",
    "#### Neural Networks.  <a name=\"nn\"></a>\n",
    "___\n",
    "\n",
    "> [6] [Polynomial Regression using tf.keras](https://medium.com/@anigasan637/polynomial-regression-using-tf-keras-17eaac771256)\n",
    "<br>\n",
    "[7] [How to Control the Stability of Training Neural Networks With the Batch Size](https://machinelearningmastery.com/how-to-control-the-speed-and-stability-of-training-neural-networks-with-gradient-descent-batch-size/)\n",
    "<br>\n",
    "[8] [scikit-learn: how to scale back the 'y' predicted result](https://stackoverflow.com/questions/38058774/scikit-learn-how-to-scale-back-the-y-predicted-result)"
   ]
  },
  {
   "cell_type": "code",
   "execution_count": 20,
   "metadata": {},
   "outputs": [
    {
     "name": "stdout",
     "output_type": "stream",
     "text": [
      "(477, 23)\n"
     ]
    }
   ],
   "source": [
    "# Apply polynominal features\n",
    "poly = PolynomialFeatures(22)\n",
    "X_poly = poly.fit_transform(X)\n",
    "print(X_poly.shape)"
   ]
  },
  {
   "cell_type": "code",
   "execution_count": 21,
   "metadata": {},
   "outputs": [
    {
     "name": "stdout",
     "output_type": "stream",
     "text": [
      "Training set: (381, 23), (381, 1)\n",
      "Test set: (96, 23), (96, 1)\n"
     ]
    }
   ],
   "source": [
    "# Redo splitting of the data on training and test\n",
    "speed_train, speed_test, power_train, power_test = train_test_split(X_poly, y, test_size=0.2, random_state=1)\n",
    "print(f\"Training set: {speed_train.shape}, {power_train.shape}\")\n",
    "print(f\"Test set: {speed_test.shape}, {power_test.shape}\")"
   ]
  },
  {
   "cell_type": "code",
   "execution_count": 22,
   "metadata": {
    "scrolled": true
   },
   "outputs": [],
   "source": [
    "# Train a different model.\n",
    "model = kr.models.Sequential()\n",
    "model.add(kr.layers.Dense(45, input_shape=(23,), activation='relu', kernel_initializer=kr.initializers.RandomUniform(seed=1),\n",
    "               bias_initializer=kr.initializers.Constant(value=0.1)))\n",
    "model.add(kr.layers.Dense(1, activation='linear'))\n",
    "model.compile(optimizer=kr.optimizers.Adam(0.01), loss='mse')"
   ]
  },
  {
   "cell_type": "code",
   "execution_count": 23,
   "metadata": {
    "scrolled": true
   },
   "outputs": [
    {
     "name": "stdout",
     "output_type": "stream",
     "text": [
      "Epoch 1/200\n",
      "1/1 [==============================] - 3s 3s/step - loss: 0.2356 - val_loss: 0.0597\n",
      "Epoch 2/200\n",
      "1/1 [==============================] - 0s 222ms/step - loss: 0.0570 - val_loss: 0.1225\n",
      "Epoch 3/200\n",
      "1/1 [==============================] - 0s 215ms/step - loss: 0.1115 - val_loss: 0.1221\n",
      "Epoch 4/200\n",
      "1/1 [==============================] - 0s 181ms/step - loss: 0.1127 - val_loss: 0.0684\n",
      "Epoch 5/200\n",
      "1/1 [==============================] - 0s 220ms/step - loss: 0.0678 - val_loss: 0.0322\n",
      "Epoch 6/200\n",
      "1/1 [==============================] - 0s 164ms/step - loss: 0.0345 - val_loss: 0.0311\n",
      "Epoch 7/200\n",
      "1/1 [==============================] - 0s 179ms/step - loss: 0.0291 - val_loss: 0.0470\n",
      "Epoch 8/200\n",
      "1/1 [==============================] - 0s 207ms/step - loss: 0.0391 - val_loss: 0.0577\n",
      "Epoch 9/200\n",
      "1/1 [==============================] - 0s 173ms/step - loss: 0.0468 - val_loss: 0.0541\n",
      "Epoch 10/200\n",
      "1/1 [==============================] - 0s 190ms/step - loss: 0.0441 - val_loss: 0.0391\n",
      "Epoch 11/200\n",
      "1/1 [==============================] - 0s 394ms/step - loss: 0.0325 - val_loss: 0.0216\n",
      "Epoch 12/200\n",
      "1/1 [==============================] - 0s 171ms/step - loss: 0.0186 - val_loss: 0.0107\n",
      "Epoch 13/200\n",
      "1/1 [==============================] - 0s 182ms/step - loss: 0.0097 - val_loss: 0.0101\n",
      "Epoch 14/200\n",
      "1/1 [==============================] - 0s 177ms/step - loss: 0.0089 - val_loss: 0.0166\n",
      "Epoch 15/200\n",
      "1/1 [==============================] - 0s 152ms/step - loss: 0.0138 - val_loss: 0.0224\n",
      "Epoch 16/200\n",
      "1/1 [==============================] - 0s 136ms/step - loss: 0.0184 - val_loss: 0.0221\n",
      "Epoch 17/200\n",
      "1/1 [==============================] - 0s 155ms/step - loss: 0.0182 - val_loss: 0.0159\n",
      "Epoch 18/200\n",
      "1/1 [==============================] - 0s 140ms/step - loss: 0.0133 - val_loss: 0.0086\n",
      "Epoch 19/200\n",
      "1/1 [==============================] - 0s 148ms/step - loss: 0.0074 - val_loss: 0.0048\n",
      "Epoch 20/200\n",
      "1/1 [==============================] - 0s 150ms/step - loss: 0.0042 - val_loss: 0.0060\n",
      "Epoch 21/200\n",
      "1/1 [==============================] - 0s 144ms/step - loss: 0.0049 - val_loss: 0.0099\n",
      "Epoch 22/200\n",
      "1/1 [==============================] - 0s 137ms/step - loss: 0.0077 - val_loss: 0.0131\n",
      "Epoch 23/200\n",
      "1/1 [==============================] - 0s 130ms/step - loss: 0.0099 - val_loss: 0.0138\n",
      "Epoch 24/200\n",
      "1/1 [==============================] - 0s 137ms/step - loss: 0.0101 - val_loss: 0.0120\n",
      "Epoch 25/200\n",
      "1/1 [==============================] - 0s 141ms/step - loss: 0.0085 - val_loss: 0.0093\n",
      "Epoch 26/200\n",
      "1/1 [==============================] - 0s 134ms/step - loss: 0.0064 - val_loss: 0.0072\n",
      "Epoch 27/200\n",
      "1/1 [==============================] - 0s 139ms/step - loss: 0.0052 - val_loss: 0.0067\n",
      "Epoch 28/200\n",
      "1/1 [==============================] - 0s 136ms/step - loss: 0.0055 - val_loss: 0.0072\n",
      "Epoch 29/200\n",
      "1/1 [==============================] - 0s 137ms/step - loss: 0.0065 - val_loss: 0.0078\n",
      "Epoch 30/200\n",
      "1/1 [==============================] - 0s 148ms/step - loss: 0.0072 - val_loss: 0.0074\n",
      "Epoch 31/200\n",
      "1/1 [==============================] - 0s 141ms/step - loss: 0.0069 - val_loss: 0.0063\n",
      "Epoch 32/200\n",
      "1/1 [==============================] - 0s 141ms/step - loss: 0.0058 - val_loss: 0.0051\n",
      "Epoch 33/200\n",
      "1/1 [==============================] - 0s 144ms/step - loss: 0.0046 - val_loss: 0.0047\n",
      "Epoch 34/200\n",
      "1/1 [==============================] - 0s 144ms/step - loss: 0.0042 - val_loss: 0.0050\n",
      "Epoch 35/200\n",
      "1/1 [==============================] - 0s 146ms/step - loss: 0.0045 - val_loss: 0.0056\n",
      "Epoch 36/200\n",
      "1/1 [==============================] - 0s 159ms/step - loss: 0.0051 - val_loss: 0.0059\n",
      "Epoch 37/200\n",
      "1/1 [==============================] - 0s 177ms/step - loss: 0.0053 - val_loss: 0.0057\n",
      "Epoch 38/200\n",
      "1/1 [==============================] - 0s 170ms/step - loss: 0.0049 - val_loss: 0.0050\n",
      "Epoch 39/200\n",
      "1/1 [==============================] - 0s 190ms/step - loss: 0.0042 - val_loss: 0.0044\n",
      "Epoch 40/200\n",
      "1/1 [==============================] - 0s 148ms/step - loss: 0.0037 - val_loss: 0.0041\n",
      "Epoch 41/200\n",
      "1/1 [==============================] - ETA: 0s - loss: 0.003 - 0s 176ms/step - loss: 0.0035 - val_loss: 0.0043\n",
      "Epoch 42/200\n",
      "1/1 [==============================] - 0s 166ms/step - loss: 0.0038 - val_loss: 0.0045\n",
      "Epoch 43/200\n",
      "1/1 [==============================] - 0s 191ms/step - loss: 0.0041 - val_loss: 0.0046\n",
      "Epoch 44/200\n",
      "1/1 [==============================] - 0s 224ms/step - loss: 0.0043 - val_loss: 0.0044\n",
      "Epoch 45/200\n",
      "1/1 [==============================] - 0s 149ms/step - loss: 0.0041 - val_loss: 0.0042\n",
      "Epoch 46/200\n",
      "1/1 [==============================] - 0s 228ms/step - loss: 0.0037 - val_loss: 0.0040\n",
      "Epoch 47/200\n",
      "1/1 [==============================] - 0s 187ms/step - loss: 0.0034 - val_loss: 0.0040\n",
      "Epoch 48/200\n",
      "1/1 [==============================] - 0s 175ms/step - loss: 0.0034 - val_loss: 0.0042\n",
      "Epoch 49/200\n",
      "1/1 [==============================] - 0s 186ms/step - loss: 0.0035 - val_loss: 0.0042\n",
      "Epoch 50/200\n",
      "1/1 [==============================] - 0s 179ms/step - loss: 0.0036 - val_loss: 0.0041\n",
      "Epoch 51/200\n",
      "1/1 [==============================] - 0s 436ms/step - loss: 0.0035 - val_loss: 0.0038\n",
      "Epoch 52/200\n",
      "1/1 [==============================] - 0s 264ms/step - loss: 0.0033 - val_loss: 0.0035\n",
      "Epoch 53/200\n",
      "1/1 [==============================] - 0s 269ms/step - loss: 0.0031 - val_loss: 0.0033\n",
      "Epoch 54/200\n",
      "1/1 [==============================] - 0s 260ms/step - loss: 0.0031 - val_loss: 0.0033\n",
      "Epoch 55/200\n",
      "1/1 [==============================] - 0s 226ms/step - loss: 0.0031 - val_loss: 0.0033\n",
      "Epoch 56/200\n",
      "1/1 [==============================] - 0s 239ms/step - loss: 0.0031 - val_loss: 0.0033\n",
      "Epoch 57/200\n",
      "1/1 [==============================] - 0s 175ms/step - loss: 0.0031 - val_loss: 0.0032\n",
      "Epoch 58/200\n",
      "1/1 [==============================] - 0s 162ms/step - loss: 0.0030 - val_loss: 0.0032\n",
      "Epoch 59/200\n",
      "1/1 [==============================] - 0s 158ms/step - loss: 0.0029 - val_loss: 0.0032\n",
      "Epoch 60/200\n",
      "1/1 [==============================] - 0s 141ms/step - loss: 0.0029 - val_loss: 0.0033\n",
      "Epoch 61/200\n",
      "1/1 [==============================] - 0s 135ms/step - loss: 0.0029 - val_loss: 0.0034\n",
      "Epoch 62/200\n",
      "1/1 [==============================] - 0s 132ms/step - loss: 0.0030 - val_loss: 0.0034\n",
      "Epoch 63/200\n",
      "1/1 [==============================] - 0s 135ms/step - loss: 0.0030 - val_loss: 0.0033\n",
      "Epoch 64/200\n",
      "1/1 [==============================] - 0s 145ms/step - loss: 0.0029 - val_loss: 0.0032\n",
      "Epoch 65/200\n",
      "1/1 [==============================] - 0s 132ms/step - loss: 0.0028 - val_loss: 0.0031\n",
      "Epoch 66/200\n",
      "1/1 [==============================] - 0s 141ms/step - loss: 0.0028 - val_loss: 0.0030\n",
      "Epoch 67/200\n",
      "1/1 [==============================] - 0s 146ms/step - loss: 0.0028 - val_loss: 0.0030\n",
      "Epoch 68/200\n",
      "1/1 [==============================] - 0s 133ms/step - loss: 0.0028 - val_loss: 0.0029\n",
      "Epoch 69/200\n",
      "1/1 [==============================] - 0s 139ms/step - loss: 0.0028 - val_loss: 0.0029\n",
      "Epoch 70/200\n",
      "1/1 [==============================] - 0s 138ms/step - loss: 0.0028 - val_loss: 0.0029\n",
      "Epoch 71/200\n",
      "1/1 [==============================] - 0s 138ms/step - loss: 0.0027 - val_loss: 0.0029\n",
      "Epoch 72/200\n",
      "1/1 [==============================] - 0s 141ms/step - loss: 0.0027 - val_loss: 0.0029\n",
      "Epoch 73/200\n",
      "1/1 [==============================] - 0s 136ms/step - loss: 0.0027 - val_loss: 0.0029\n",
      "Epoch 74/200\n",
      "1/1 [==============================] - 0s 141ms/step - loss: 0.0027 - val_loss: 0.0029\n",
      "Epoch 75/200\n",
      "1/1 [==============================] - 0s 145ms/step - loss: 0.0027 - val_loss: 0.0028\n",
      "Epoch 76/200\n",
      "1/1 [==============================] - 0s 166ms/step - loss: 0.0027 - val_loss: 0.0028\n",
      "Epoch 77/200\n",
      "1/1 [==============================] - 0s 168ms/step - loss: 0.0026 - val_loss: 0.0028\n",
      "Epoch 78/200\n",
      "1/1 [==============================] - 0s 145ms/step - loss: 0.0026 - val_loss: 0.0027\n",
      "Epoch 79/200\n",
      "1/1 [==============================] - 0s 141ms/step - loss: 0.0026 - val_loss: 0.0027\n",
      "Epoch 80/200\n",
      "1/1 [==============================] - 0s 149ms/step - loss: 0.0026 - val_loss: 0.0027\n",
      "Epoch 81/200\n",
      "1/1 [==============================] - 0s 154ms/step - loss: 0.0026 - val_loss: 0.0027\n",
      "Epoch 82/200\n",
      "1/1 [==============================] - 0s 158ms/step - loss: 0.0026 - val_loss: 0.0027\n"
     ]
    },
    {
     "name": "stdout",
     "output_type": "stream",
     "text": [
      "Epoch 83/200\n",
      "1/1 [==============================] - 0s 149ms/step - loss: 0.0026 - val_loss: 0.0027\n",
      "Epoch 84/200\n",
      "1/1 [==============================] - 0s 141ms/step - loss: 0.0026 - val_loss: 0.0027\n",
      "Epoch 85/200\n",
      "1/1 [==============================] - 0s 150ms/step - loss: 0.0026 - val_loss: 0.0026\n",
      "Epoch 86/200\n",
      "1/1 [==============================] - 0s 171ms/step - loss: 0.0025 - val_loss: 0.0026\n",
      "Epoch 87/200\n",
      "1/1 [==============================] - 0s 166ms/step - loss: 0.0025 - val_loss: 0.0026\n",
      "Epoch 88/200\n",
      "1/1 [==============================] - 0s 155ms/step - loss: 0.0025 - val_loss: 0.0026\n",
      "Epoch 89/200\n",
      "1/1 [==============================] - 0s 156ms/step - loss: 0.0025 - val_loss: 0.0026\n",
      "Epoch 90/200\n",
      "1/1 [==============================] - 0s 170ms/step - loss: 0.0025 - val_loss: 0.0026\n",
      "Epoch 91/200\n",
      "1/1 [==============================] - 0s 176ms/step - loss: 0.0025 - val_loss: 0.0026\n",
      "Epoch 92/200\n",
      "1/1 [==============================] - 0s 341ms/step - loss: 0.0025 - val_loss: 0.0026\n",
      "Epoch 93/200\n",
      "1/1 [==============================] - 0s 173ms/step - loss: 0.0025 - val_loss: 0.0026\n",
      "Epoch 94/200\n",
      "1/1 [==============================] - 0s 176ms/step - loss: 0.0024 - val_loss: 0.0026\n",
      "Epoch 95/200\n",
      "1/1 [==============================] - 0s 162ms/step - loss: 0.0024 - val_loss: 0.0025\n",
      "Epoch 96/200\n",
      "1/1 [==============================] - 0s 188ms/step - loss: 0.0024 - val_loss: 0.0025\n",
      "Epoch 97/200\n",
      "1/1 [==============================] - 0s 190ms/step - loss: 0.0024 - val_loss: 0.0025\n",
      "Epoch 98/200\n",
      "1/1 [==============================] - 0s 159ms/step - loss: 0.0024 - val_loss: 0.0025\n",
      "Epoch 99/200\n",
      "1/1 [==============================] - 0s 165ms/step - loss: 0.0024 - val_loss: 0.0025\n",
      "Epoch 100/200\n",
      "1/1 [==============================] - 0s 159ms/step - loss: 0.0024 - val_loss: 0.0025\n",
      "Epoch 101/200\n",
      "1/1 [==============================] - 0s 144ms/step - loss: 0.0024 - val_loss: 0.0024\n",
      "Epoch 102/200\n",
      "1/1 [==============================] - 0s 127ms/step - loss: 0.0024 - val_loss: 0.0024\n",
      "Epoch 103/200\n",
      "1/1 [==============================] - 0s 144ms/step - loss: 0.0024 - val_loss: 0.0024\n",
      "Epoch 104/200\n",
      "1/1 [==============================] - 0s 135ms/step - loss: 0.0023 - val_loss: 0.0024\n",
      "Epoch 105/200\n",
      "1/1 [==============================] - 0s 131ms/step - loss: 0.0023 - val_loss: 0.0024\n",
      "Epoch 106/200\n",
      "1/1 [==============================] - 0s 148ms/step - loss: 0.0023 - val_loss: 0.0024\n",
      "Epoch 107/200\n",
      "1/1 [==============================] - 0s 139ms/step - loss: 0.0023 - val_loss: 0.0024\n",
      "Epoch 108/200\n",
      "1/1 [==============================] - 0s 135ms/step - loss: 0.0023 - val_loss: 0.0024\n",
      "Epoch 109/200\n",
      "1/1 [==============================] - 0s 138ms/step - loss: 0.0023 - val_loss: 0.0024\n",
      "Epoch 110/200\n",
      "1/1 [==============================] - 0s 139ms/step - loss: 0.0023 - val_loss: 0.0024\n",
      "Epoch 111/200\n",
      "1/1 [==============================] - 0s 129ms/step - loss: 0.0023 - val_loss: 0.0023\n",
      "Epoch 112/200\n",
      "1/1 [==============================] - 0s 140ms/step - loss: 0.0023 - val_loss: 0.0023\n",
      "Epoch 113/200\n",
      "1/1 [==============================] - 0s 141ms/step - loss: 0.0023 - val_loss: 0.0023\n",
      "Epoch 114/200\n",
      "1/1 [==============================] - 0s 144ms/step - loss: 0.0022 - val_loss: 0.0023\n",
      "Epoch 115/200\n",
      "1/1 [==============================] - 0s 134ms/step - loss: 0.0022 - val_loss: 0.0023\n",
      "Epoch 116/200\n",
      "1/1 [==============================] - 0s 138ms/step - loss: 0.0022 - val_loss: 0.0023\n",
      "Epoch 117/200\n",
      "1/1 [==============================] - 0s 142ms/step - loss: 0.0022 - val_loss: 0.0023\n",
      "Epoch 118/200\n",
      "1/1 [==============================] - 0s 145ms/step - loss: 0.0022 - val_loss: 0.0023\n",
      "Epoch 119/200\n",
      "1/1 [==============================] - 0s 134ms/step - loss: 0.0022 - val_loss: 0.0023\n",
      "Epoch 120/200\n",
      "1/1 [==============================] - 0s 179ms/step - loss: 0.0022 - val_loss: 0.0023\n",
      "Epoch 121/200\n",
      "1/1 [==============================] - 0s 150ms/step - loss: 0.0022 - val_loss: 0.0023\n",
      "Epoch 122/200\n",
      "1/1 [==============================] - 0s 153ms/step - loss: 0.0022 - val_loss: 0.0022\n",
      "Epoch 123/200\n",
      "1/1 [==============================] - 0s 152ms/step - loss: 0.0022 - val_loss: 0.0022\n",
      "Epoch 124/200\n",
      "1/1 [==============================] - 0s 156ms/step - loss: 0.0021 - val_loss: 0.0022\n",
      "Epoch 125/200\n",
      "1/1 [==============================] - 0s 153ms/step - loss: 0.0021 - val_loss: 0.0022\n",
      "Epoch 126/200\n",
      "1/1 [==============================] - 0s 153ms/step - loss: 0.0021 - val_loss: 0.0022\n",
      "Epoch 127/200\n",
      "1/1 [==============================] - 0s 153ms/step - loss: 0.0021 - val_loss: 0.0022\n",
      "Epoch 128/200\n",
      "1/1 [==============================] - 0s 161ms/step - loss: 0.0021 - val_loss: 0.0022\n",
      "Epoch 129/200\n",
      "1/1 [==============================] - 0s 166ms/step - loss: 0.0021 - val_loss: 0.0022\n",
      "Epoch 130/200\n",
      "1/1 [==============================] - 0s 158ms/step - loss: 0.0021 - val_loss: 0.0022\n",
      "Epoch 131/200\n",
      "1/1 [==============================] - 0s 151ms/step - loss: 0.0021 - val_loss: 0.0022\n",
      "Epoch 132/200\n",
      "1/1 [==============================] - 0s 307ms/step - loss: 0.0021 - val_loss: 0.0022\n",
      "Epoch 133/200\n",
      "1/1 [==============================] - 0s 173ms/step - loss: 0.0021 - val_loss: 0.0022\n",
      "Epoch 134/200\n",
      "1/1 [==============================] - 0s 175ms/step - loss: 0.0021 - val_loss: 0.0022\n",
      "Epoch 135/200\n",
      "1/1 [==============================] - 0s 184ms/step - loss: 0.0021 - val_loss: 0.0021\n",
      "Epoch 136/200\n",
      "1/1 [==============================] - 0s 194ms/step - loss: 0.0020 - val_loss: 0.0021\n",
      "Epoch 137/200\n",
      "1/1 [==============================] - 0s 212ms/step - loss: 0.0020 - val_loss: 0.0021\n",
      "Epoch 138/200\n",
      "1/1 [==============================] - 0s 190ms/step - loss: 0.0020 - val_loss: 0.0021\n",
      "Epoch 139/200\n",
      "1/1 [==============================] - 0s 183ms/step - loss: 0.0020 - val_loss: 0.0021\n",
      "Epoch 140/200\n",
      "1/1 [==============================] - 0s 211ms/step - loss: 0.0020 - val_loss: 0.0021\n",
      "Epoch 141/200\n",
      "1/1 [==============================] - 0s 166ms/step - loss: 0.0020 - val_loss: 0.0021\n",
      "Epoch 142/200\n",
      "1/1 [==============================] - 0s 190ms/step - loss: 0.0020 - val_loss: 0.0021\n",
      "Epoch 143/200\n",
      "1/1 [==============================] - 0s 160ms/step - loss: 0.0020 - val_loss: 0.0021\n",
      "Epoch 144/200\n",
      "1/1 [==============================] - 0s 159ms/step - loss: 0.0020 - val_loss: 0.0021\n",
      "Epoch 145/200\n",
      "1/1 [==============================] - 0s 146ms/step - loss: 0.0020 - val_loss: 0.0021\n",
      "Epoch 146/200\n",
      "1/1 [==============================] - 0s 148ms/step - loss: 0.0020 - val_loss: 0.0021\n",
      "Epoch 147/200\n",
      "1/1 [==============================] - 0s 140ms/step - loss: 0.0019 - val_loss: 0.0021\n",
      "Epoch 148/200\n",
      "1/1 [==============================] - 0s 136ms/step - loss: 0.0019 - val_loss: 0.0020\n",
      "Epoch 149/200\n",
      "1/1 [==============================] - 0s 146ms/step - loss: 0.0019 - val_loss: 0.0020\n",
      "Epoch 150/200\n",
      "1/1 [==============================] - 0s 147ms/step - loss: 0.0019 - val_loss: 0.0020\n",
      "Epoch 151/200\n",
      "1/1 [==============================] - 0s 157ms/step - loss: 0.0019 - val_loss: 0.0020\n",
      "Epoch 152/200\n",
      "1/1 [==============================] - 0s 137ms/step - loss: 0.0019 - val_loss: 0.0020\n",
      "Epoch 153/200\n",
      "1/1 [==============================] - 0s 140ms/step - loss: 0.0019 - val_loss: 0.0020\n",
      "Epoch 154/200\n",
      "1/1 [==============================] - 0s 150ms/step - loss: 0.0019 - val_loss: 0.0020\n",
      "Epoch 155/200\n",
      "1/1 [==============================] - 0s 129ms/step - loss: 0.0019 - val_loss: 0.0020\n",
      "Epoch 156/200\n",
      "1/1 [==============================] - 0s 142ms/step - loss: 0.0019 - val_loss: 0.0020\n",
      "Epoch 157/200\n",
      "1/1 [==============================] - 0s 146ms/step - loss: 0.0019 - val_loss: 0.0020\n",
      "Epoch 158/200\n",
      "1/1 [==============================] - 0s 138ms/step - loss: 0.0019 - val_loss: 0.0020\n",
      "Epoch 159/200\n",
      "1/1 [==============================] - 0s 144ms/step - loss: 0.0019 - val_loss: 0.0020\n",
      "Epoch 160/200\n",
      "1/1 [==============================] - 0s 142ms/step - loss: 0.0018 - val_loss: 0.0020\n",
      "Epoch 161/200\n",
      "1/1 [==============================] - 0s 142ms/step - loss: 0.0018 - val_loss: 0.0020\n",
      "Epoch 162/200\n",
      "1/1 [==============================] - 0s 148ms/step - loss: 0.0018 - val_loss: 0.0019\n",
      "Epoch 163/200\n",
      "1/1 [==============================] - 0s 155ms/step - loss: 0.0018 - val_loss: 0.0019\n",
      "Epoch 164/200\n"
     ]
    },
    {
     "name": "stdout",
     "output_type": "stream",
     "text": [
      "1/1 [==============================] - 0s 158ms/step - loss: 0.0018 - val_loss: 0.0019\n",
      "Epoch 165/200\n",
      "1/1 [==============================] - 0s 170ms/step - loss: 0.0018 - val_loss: 0.0019\n",
      "Epoch 166/200\n",
      "1/1 [==============================] - 0s 155ms/step - loss: 0.0018 - val_loss: 0.0019\n",
      "Epoch 167/200\n",
      "1/1 [==============================] - 0s 174ms/step - loss: 0.0018 - val_loss: 0.0019\n",
      "Epoch 168/200\n",
      "1/1 [==============================] - 0s 165ms/step - loss: 0.0018 - val_loss: 0.0019\n",
      "Epoch 169/200\n",
      "1/1 [==============================] - 0s 162ms/step - loss: 0.0018 - val_loss: 0.0019\n",
      "Epoch 170/200\n",
      "1/1 [==============================] - 0s 147ms/step - loss: 0.0018 - val_loss: 0.0019\n",
      "Epoch 171/200\n",
      "1/1 [==============================] - 0s 164ms/step - loss: 0.0018 - val_loss: 0.0019\n",
      "Epoch 172/200\n",
      "1/1 [==============================] - 0s 158ms/step - loss: 0.0018 - val_loss: 0.0019\n",
      "Epoch 173/200\n",
      "1/1 [==============================] - 0s 322ms/step - loss: 0.0018 - val_loss: 0.0019\n",
      "Epoch 174/200\n",
      "1/1 [==============================] - 0s 153ms/step - loss: 0.0018 - val_loss: 0.0019\n",
      "Epoch 175/200\n",
      "1/1 [==============================] - 0s 151ms/step - loss: 0.0017 - val_loss: 0.0019\n",
      "Epoch 176/200\n",
      "1/1 [==============================] - 0s 180ms/step - loss: 0.0017 - val_loss: 0.0019\n",
      "Epoch 177/200\n",
      "1/1 [==============================] - 0s 172ms/step - loss: 0.0017 - val_loss: 0.0019\n",
      "Epoch 178/200\n",
      "1/1 [==============================] - 0s 169ms/step - loss: 0.0017 - val_loss: 0.0018\n",
      "Epoch 179/200\n",
      "1/1 [==============================] - 0s 186ms/step - loss: 0.0017 - val_loss: 0.0018\n",
      "Epoch 180/200\n",
      "1/1 [==============================] - 0s 182ms/step - loss: 0.0017 - val_loss: 0.0018\n",
      "Epoch 181/200\n",
      "1/1 [==============================] - 0s 201ms/step - loss: 0.0017 - val_loss: 0.0018\n",
      "Epoch 182/200\n",
      "1/1 [==============================] - 0s 197ms/step - loss: 0.0017 - val_loss: 0.0018\n",
      "Epoch 183/200\n",
      "1/1 [==============================] - 0s 201ms/step - loss: 0.0017 - val_loss: 0.0018\n",
      "Epoch 184/200\n",
      "1/1 [==============================] - 0s 228ms/step - loss: 0.0017 - val_loss: 0.0018\n",
      "Epoch 185/200\n",
      "1/1 [==============================] - 0s 192ms/step - loss: 0.0017 - val_loss: 0.0018\n",
      "Epoch 186/200\n",
      "1/1 [==============================] - 0s 175ms/step - loss: 0.0017 - val_loss: 0.0018\n",
      "Epoch 187/200\n",
      "1/1 [==============================] - 0s 163ms/step - loss: 0.0017 - val_loss: 0.0018\n",
      "Epoch 188/200\n",
      "1/1 [==============================] - 0s 164ms/step - loss: 0.0017 - val_loss: 0.0018\n",
      "Epoch 189/200\n",
      "1/1 [==============================] - 0s 160ms/step - loss: 0.0017 - val_loss: 0.0018\n",
      "Epoch 190/200\n",
      "1/1 [==============================] - 0s 138ms/step - loss: 0.0017 - val_loss: 0.0018\n",
      "Epoch 191/200\n",
      "1/1 [==============================] - 0s 137ms/step - loss: 0.0017 - val_loss: 0.0018\n",
      "Epoch 192/200\n",
      "1/1 [==============================] - 0s 140ms/step - loss: 0.0016 - val_loss: 0.0018\n",
      "Epoch 193/200\n",
      "1/1 [==============================] - 0s 143ms/step - loss: 0.0016 - val_loss: 0.0018\n",
      "Epoch 194/200\n",
      "1/1 [==============================] - 0s 147ms/step - loss: 0.0016 - val_loss: 0.0018\n",
      "Epoch 195/200\n",
      "1/1 [==============================] - 0s 143ms/step - loss: 0.0016 - val_loss: 0.0017\n",
      "Epoch 196/200\n",
      "1/1 [==============================] - 0s 150ms/step - loss: 0.0016 - val_loss: 0.0017\n",
      "Epoch 197/200\n",
      "1/1 [==============================] - 0s 151ms/step - loss: 0.0016 - val_loss: 0.0017\n",
      "Epoch 198/200\n",
      "1/1 [==============================] - 0s 157ms/step - loss: 0.0016 - val_loss: 0.0017\n",
      "Epoch 199/200\n",
      "1/1 [==============================] - 0s 156ms/step - loss: 0.0016 - val_loss: 0.0017\n",
      "Epoch 200/200\n",
      "1/1 [==============================] - 0s 135ms/step - loss: 0.0016 - val_loss: 0.0017\n"
     ]
    },
    {
     "data": {
      "text/plain": [
       "<tensorflow.python.keras.callbacks.History at 0x1b9a25f7848>"
      ]
     },
     "execution_count": 23,
     "metadata": {},
     "output_type": "execute_result"
    }
   ],
   "source": [
    "# Train the neural network on our training data.\n",
    "model.fit(speed_train, power_train, epochs=200, batch_size=len(speed_train), validation_data=(speed_test, power_test))"
   ]
  },
  {
   "cell_type": "code",
   "execution_count": 24,
   "metadata": {},
   "outputs": [
    {
     "name": "stdout",
     "output_type": "stream",
     "text": [
      "TRAINING DATA\n",
      "Cost:  0.04004660230886366\n",
      "Score: 0.9876960610221158\n",
      "\n",
      "TEST DATA\n",
      "Cost:  0.04146559136243547\n",
      "Score: 0.986922736528524\n"
     ]
    }
   ],
   "source": [
    "# Predict power for train and test data.\n",
    "y_nn_train = model.predict(speed_train)\n",
    "y_nn_test = model.predict(speed_test)\n",
    "\n",
    "# Calculate a score and cost.\n",
    "print(\"TRAINING DATA\\nCost: \", np.sqrt(mean_squared_error(power_train,y_nn_train)))\n",
    "print(\"Score:\", r2_score(power_train, y_nn_train))\n",
    "\n",
    "print(\"\\nTEST DATA\\nCost: \", np.sqrt(mean_squared_error(power_test,y_nn_test)))\n",
    "print(\"Score:\", r2_score(power_test,y_nn_test))"
   ]
  },
  {
   "cell_type": "code",
   "execution_count": 25,
   "metadata": {},
   "outputs": [
    {
     "name": "stdout",
     "output_type": "stream",
     "text": [
      "Actual power for [85.25426485] speed is [99.09]\n",
      "Predicted power for [85.25426485] speed is [95.57873]\n"
     ]
    }
   ],
   "source": [
    "# Reverse scaling.\n",
    "power_pred_unscaled = scaler.inverse_transform(y_nn_test)\n",
    "\n",
    "# Check actual and predicted wind power for the test speed 78.73383549\n",
    "print(f\"Actual power for {speed_test_unscaled[5]} speed is {power_test_unscaled[5]}\")\n",
    "print(f\"Predicted power for {speed_test_unscaled[5]} speed is {power_pred_unscaled[5]}\")"
   ]
  },
  {
   "cell_type": "code",
   "execution_count": 26,
   "metadata": {
    "scrolled": false
   },
   "outputs": [
    {
     "data": {
      "image/png": "[encoded data removed]",
      "text/plain": [
       "<Figure size 1008x576 with 1 Axes>"
      ]
     },
     "metadata": {},
     "output_type": "display_data"
    }
   ],
   "source": [
    "# Create a figure, axis and titles.\n",
    "fig, ax = plt.subplots()\n",
    "fig.suptitle(\"Neural Network\", y=1.02)\n",
    "ax.set_title(\"Predictions on the test data\",y=1.02)\n",
    "\n",
    "# Plot actual test data and predictions.\n",
    "ax.scatter(speed_train[:, 1], power_train, label='actual')\n",
    "ax.scatter(speed_test[:, 1], y_nn_test, label='prediction', c=\"r\")\n",
    "\n",
    "# Show the legend.\n",
    "plt.legend()\n",
    "\n",
    "# Show the plot.\n",
    "plt.show()"
   ]
  },
  {
   "cell_type": "markdown",
   "metadata": {},
   "source": [
    "### <br>\n",
    "\n",
    "___\n",
    "\n",
    "### End"
   ]
  }
 ],
 "metadata": {
  "kernelspec": {
   "display_name": "Python 3",
   "language": "python",
   "name": "python3"
  },
  "language_info": {
   "codemirror_mode": {
    "name": "ipython",
    "version": 3
   },
   "file_extension": ".py",
   "mimetype": "text/x-python",
   "name": "python",
   "nbconvert_exporter": "python",
   "pygments_lexer": "ipython3",
   "version": "3.7.4"
  }
 },
 "nbformat": 4,
 "nbformat_minor": 2
}
